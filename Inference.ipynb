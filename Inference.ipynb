{
 "cells": [
  {
   "cell_type": "code",
   "execution_count": 1,
   "id": "8ef3f4c7-460c-4974-b0d5-ccbcfd38c1d1",
   "metadata": {},
   "outputs": [
    {
     "name": "stdout",
     "output_type": "stream",
     "text": [
      "✅ Environment configured\n"
     ]
    }
   ],
   "source": [
    "# Environment setup\n",
    "import os\n",
    "os.environ['TF_CPP_MIN_LOG_LEVEL'] = '2'\n",
    "import warnings\n",
    "warnings.filterwarnings('ignore')\n",
    "\n",
    "print(\"✅ Environment configured\")"
   ]
  },
  {
   "cell_type": "code",
   "execution_count": 2,
   "id": "df4c62af-a5cb-46dc-ac96-eef3919a0c56",
   "metadata": {},
   "outputs": [
    {
     "name": "stdout",
     "output_type": "stream",
     "text": [
      "✅ All libraries imported successfully\n"
     ]
    }
   ],
   "source": [
    "import time\n",
    "import joblib\n",
    "import numpy as np\n",
    "import pandas as pd\n",
    "\n",
    "# GPU libraries\n",
    "import cudf\n",
    "import cupy as cp\n",
    "\n",
    "import nvtabular as nvt\n",
    "from merlin.io import Dataset  # merlin-core\n",
    "\n",
    "import xgboost as xgb\n",
    "\n",
    "print(\"✅ All libraries imported successfully\")"
   ]
  },
  {
   "cell_type": "code",
   "execution_count": 3,
   "id": "30a7b761-86fd-405c-a39e-c0aa807de7c6",
   "metadata": {},
   "outputs": [
    {
     "name": "stdout",
     "output_type": "stream",
     "text": [
      "📋 Current PATH: /workspace\n"
     ]
    }
   ],
   "source": [
    "# Configuration(DATA PATH)\n",
    "\n",
    "# MODEL_PATH = \"./xgb_model.pkl\"\n",
    "WORKFLOW_PATH = \"/workspace/output/workflow\"\n",
    "INFER_DATA_PATH = \"test.parquet\"  # 추론할 parquet 데이터\n",
    "USE_GPU = True\n",
    "\n",
    "print(f\"📋 Current PATH: {os.getcwd()}\")"
   ]
  },
  {
   "cell_type": "code",
   "execution_count": 4,
   "id": "95733d40-c98d-4d3d-ba13-fd8deed66c08",
   "metadata": {},
   "outputs": [],
   "source": [
    "df = pd.read_parquet(\"test.parquet\")"
   ]
  },
  {
   "cell_type": "code",
   "execution_count": 5,
   "id": "ff42e677-b231-46b9-9fa9-91727ac9140a",
   "metadata": {},
   "outputs": [
    {
     "data": {
      "text/html": [
       "<div>\n",
       "<style scoped>\n",
       "    .dataframe tbody tr th:only-of-type {\n",
       "        vertical-align: middle;\n",
       "    }\n",
       "\n",
       "    .dataframe tbody tr th {\n",
       "        vertical-align: top;\n",
       "    }\n",
       "\n",
       "    .dataframe thead th {\n",
       "        text-align: right;\n",
       "    }\n",
       "</style>\n",
       "<table border=\"1\" class=\"dataframe\">\n",
       "  <thead>\n",
       "    <tr style=\"text-align: right;\">\n",
       "      <th></th>\n",
       "      <th>ID</th>\n",
       "      <th>gender</th>\n",
       "      <th>age_group</th>\n",
       "      <th>inventory_id</th>\n",
       "      <th>day_of_week</th>\n",
       "      <th>hour</th>\n",
       "      <th>seq</th>\n",
       "      <th>l_feat_1</th>\n",
       "      <th>l_feat_2</th>\n",
       "      <th>l_feat_3</th>\n",
       "      <th>...</th>\n",
       "      <th>history_b_21</th>\n",
       "      <th>history_b_22</th>\n",
       "      <th>history_b_23</th>\n",
       "      <th>history_b_24</th>\n",
       "      <th>history_b_25</th>\n",
       "      <th>history_b_26</th>\n",
       "      <th>history_b_27</th>\n",
       "      <th>history_b_28</th>\n",
       "      <th>history_b_29</th>\n",
       "      <th>history_b_30</th>\n",
       "    </tr>\n",
       "  </thead>\n",
       "  <tbody>\n",
       "    <tr>\n",
       "      <th>0</th>\n",
       "      <td>TEST_0000000</td>\n",
       "      <td>2.0</td>\n",
       "      <td>6.0</td>\n",
       "      <td>46</td>\n",
       "      <td>7</td>\n",
       "      <td>13</td>\n",
       "      <td>321,269,57,516,479,516,57,479,35,57,516,403,45...</td>\n",
       "      <td>2.0</td>\n",
       "      <td>2.0</td>\n",
       "      <td>2.0</td>\n",
       "      <td>...</td>\n",
       "      <td>0.008702</td>\n",
       "      <td>0.071199</td>\n",
       "      <td>0.071199</td>\n",
       "      <td>0.011866</td>\n",
       "      <td>0.004747</td>\n",
       "      <td>0.044302</td>\n",
       "      <td>0.050630</td>\n",
       "      <td>0.015822</td>\n",
       "      <td>0.041137</td>\n",
       "      <td>0.104432</td>\n",
       "    </tr>\n",
       "    <tr>\n",
       "      <th>1</th>\n",
       "      <td>TEST_0000001</td>\n",
       "      <td>2.0</td>\n",
       "      <td>8.0</td>\n",
       "      <td>29</td>\n",
       "      <td>7</td>\n",
       "      <td>21</td>\n",
       "      <td>57,35,479,57,463,212,193,151,463,193,74,77,207...</td>\n",
       "      <td>2.0</td>\n",
       "      <td>2.0</td>\n",
       "      <td>2.0</td>\n",
       "      <td>...</td>\n",
       "      <td>0.024553</td>\n",
       "      <td>0.200889</td>\n",
       "      <td>0.200889</td>\n",
       "      <td>0.033482</td>\n",
       "      <td>0.013393</td>\n",
       "      <td>0.124998</td>\n",
       "      <td>0.142854</td>\n",
       "      <td>0.044642</td>\n",
       "      <td>0.116069</td>\n",
       "      <td>0.073659</td>\n",
       "    </tr>\n",
       "    <tr>\n",
       "      <th>2</th>\n",
       "      <td>TEST_0000002</td>\n",
       "      <td>1.0</td>\n",
       "      <td>6.0</td>\n",
       "      <td>37</td>\n",
       "      <td>7</td>\n",
       "      <td>19</td>\n",
       "      <td>57,516,97,74,527,77,318,315,317,311,269,479,57...</td>\n",
       "      <td>2.0</td>\n",
       "      <td>2.0</td>\n",
       "      <td>3.0</td>\n",
       "      <td>...</td>\n",
       "      <td>0.021739</td>\n",
       "      <td>0.177867</td>\n",
       "      <td>0.177867</td>\n",
       "      <td>0.029645</td>\n",
       "      <td>0.011858</td>\n",
       "      <td>0.110673</td>\n",
       "      <td>0.126483</td>\n",
       "      <td>0.039526</td>\n",
       "      <td>0.102768</td>\n",
       "      <td>0.065218</td>\n",
       "    </tr>\n",
       "    <tr>\n",
       "      <th>3</th>\n",
       "      <td>TEST_0000003</td>\n",
       "      <td>2.0</td>\n",
       "      <td>7.0</td>\n",
       "      <td>41</td>\n",
       "      <td>7</td>\n",
       "      <td>09</td>\n",
       "      <td>144,321,57,479,57,479,35,57,516,165,74,527,318...</td>\n",
       "      <td>2.0</td>\n",
       "      <td>2.0</td>\n",
       "      <td>2.0</td>\n",
       "      <td>...</td>\n",
       "      <td>0.006614</td>\n",
       "      <td>0.108234</td>\n",
       "      <td>0.054117</td>\n",
       "      <td>0.009019</td>\n",
       "      <td>0.003608</td>\n",
       "      <td>0.033673</td>\n",
       "      <td>0.038483</td>\n",
       "      <td>0.012026</td>\n",
       "      <td>0.031268</td>\n",
       "      <td>0.039686</td>\n",
       "    </tr>\n",
       "    <tr>\n",
       "      <th>4</th>\n",
       "      <td>TEST_0000004</td>\n",
       "      <td>1.0</td>\n",
       "      <td>8.0</td>\n",
       "      <td>2</td>\n",
       "      <td>7</td>\n",
       "      <td>18</td>\n",
       "      <td>269,57,516,342,516,403,173,457,343,403,457,173...</td>\n",
       "      <td>2.0</td>\n",
       "      <td>2.0</td>\n",
       "      <td>3.0</td>\n",
       "      <td>...</td>\n",
       "      <td>0.006532</td>\n",
       "      <td>0.053442</td>\n",
       "      <td>0.053442</td>\n",
       "      <td>0.008907</td>\n",
       "      <td>0.003563</td>\n",
       "      <td>0.033253</td>\n",
       "      <td>0.038003</td>\n",
       "      <td>0.011876</td>\n",
       "      <td>0.030878</td>\n",
       "      <td>0.039191</td>\n",
       "    </tr>\n",
       "  </tbody>\n",
       "</table>\n",
       "<p>5 rows × 119 columns</p>\n",
       "</div>"
      ],
      "text/plain": [
       "             ID gender age_group inventory_id day_of_week hour  \\\n",
       "0  TEST_0000000    2.0       6.0           46           7   13   \n",
       "1  TEST_0000001    2.0       8.0           29           7   21   \n",
       "2  TEST_0000002    1.0       6.0           37           7   19   \n",
       "3  TEST_0000003    2.0       7.0           41           7   09   \n",
       "4  TEST_0000004    1.0       8.0            2           7   18   \n",
       "\n",
       "                                                 seq  l_feat_1  l_feat_2  \\\n",
       "0  321,269,57,516,479,516,57,479,35,57,516,403,45...       2.0       2.0   \n",
       "1  57,35,479,57,463,212,193,151,463,193,74,77,207...       2.0       2.0   \n",
       "2  57,516,97,74,527,77,318,315,317,311,269,479,57...       2.0       2.0   \n",
       "3  144,321,57,479,57,479,35,57,516,165,74,527,318...       2.0       2.0   \n",
       "4  269,57,516,342,516,403,173,457,343,403,457,173...       2.0       2.0   \n",
       "\n",
       "   l_feat_3  ...  history_b_21  history_b_22  history_b_23  history_b_24  \\\n",
       "0       2.0  ...      0.008702      0.071199      0.071199      0.011866   \n",
       "1       2.0  ...      0.024553      0.200889      0.200889      0.033482   \n",
       "2       3.0  ...      0.021739      0.177867      0.177867      0.029645   \n",
       "3       2.0  ...      0.006614      0.108234      0.054117      0.009019   \n",
       "4       3.0  ...      0.006532      0.053442      0.053442      0.008907   \n",
       "\n",
       "   history_b_25  history_b_26  history_b_27  history_b_28  history_b_29  \\\n",
       "0      0.004747      0.044302      0.050630      0.015822      0.041137   \n",
       "1      0.013393      0.124998      0.142854      0.044642      0.116069   \n",
       "2      0.011858      0.110673      0.126483      0.039526      0.102768   \n",
       "3      0.003608      0.033673      0.038483      0.012026      0.031268   \n",
       "4      0.003563      0.033253      0.038003      0.011876      0.030878   \n",
       "\n",
       "   history_b_30  \n",
       "0      0.104432  \n",
       "1      0.073659  \n",
       "2      0.065218  \n",
       "3      0.039686  \n",
       "4      0.039191  \n",
       "\n",
       "[5 rows x 119 columns]"
      ]
     },
     "execution_count": 5,
     "metadata": {},
     "output_type": "execute_result"
    }
   ],
   "source": [
    "df.head()"
   ]
  },
  {
   "cell_type": "code",
   "execution_count": 6,
   "id": "23d28453-241b-4860-9e91-c1fc423ac580",
   "metadata": {},
   "outputs": [],
   "source": [
    "del df"
   ]
  },
  {
   "cell_type": "code",
   "execution_count": 7,
   "id": "7f28369b-56da-426d-baac-b5840a4e7de1",
   "metadata": {},
   "outputs": [
    {
     "data": {
      "text/plain": [
       "<nvtabular.workflow.workflow.Workflow at 0x7f6fbd41b850>"
      ]
     },
     "execution_count": 7,
     "metadata": {},
     "output_type": "execute_result"
    }
   ],
   "source": [
    "# Workflow load\n",
    "workflow = nvt.Workflow.load(WORKFLOW_PATH)\n",
    "\n",
    "# 워크플로우에서 'clicked' 제거\n",
    "workflow.remove_inputs([\"clicked\"])"
   ]
  },
  {
   "cell_type": "code",
   "execution_count": 8,
   "id": "85a98e94-0ef2-4bd8-b30b-68be27822fa1",
   "metadata": {},
   "outputs": [
    {
     "name": "stdout",
     "output_type": "stream",
     "text": [
      "✅ Dataset created\n"
     ]
    }
   ],
   "source": [
    "# Inference data load\n",
    "\n",
    "dataset = Dataset(INFER_DATA_PATH, engine='parquet', part_size=\"8MB\", cpu=True)\n",
    "print(\"✅ Dataset created\")"
   ]
  },
  {
   "cell_type": "code",
   "execution_count": 9,
   "id": "72f10bcf-ef01-4fcd-b4e8-a78d1bf3adba",
   "metadata": {},
   "outputs": [
    {
     "name": "stdout",
     "output_type": "stream",
     "text": [
      "🚀 Applying workflow transform...\n",
      "✅ Transform created\n"
     ]
    }
   ],
   "source": [
    "# 전처리 (학습 시 사용한 workflow 적용)\n",
    "print(\"🚀 Applying workflow transform...\")\n",
    "transformed = workflow.transform(dataset).to_ddf()  # 전체 데이터 사용\n",
    "# transformed = workflow.transform(dataset).to_ddf().sample(frac=0.01, random_state=42)  # frac으로 샘플링 비율 조절\n",
    "\n",
    "print(\"✅ Transform created\")"
   ]
  },
  {
   "cell_type": "code",
   "execution_count": 10,
   "id": "64f0ac73-e9f5-4593-9fff-2bb0c0409d78",
   "metadata": {},
   "outputs": [],
   "source": [
    "# 피처 선택\n",
    "feature_cols = [col for col in transformed.columns if col != \"clicked\"]\n",
    "X_infer = transformed[feature_cols]  # cpu load로 DataFrame"
   ]
  },
  {
   "cell_type": "code",
   "execution_count": 11,
   "id": "a055e1aa-f523-4dba-90cd-827edfaa8971",
   "metadata": {},
   "outputs": [
    {
     "name": "stdout",
     "output_type": "stream",
     "text": [
      "[<xgboost.core.Booster object at 0x7f6c846994e0>, <xgboost.core.Booster object at 0x7f6c848e8f40>, <xgboost.core.Booster object at 0x7f6c848e8ee0>, <xgboost.core.Booster object at 0x7f6c848e9000>, <xgboost.core.Booster object at 0x7f6c848e8580>]\n"
     ]
    }
   ],
   "source": [
    "# 모델 로드 (h:4, l:3 fold)\n",
    "# model = joblib.load(\"xgb_model_fold3.pkl\")\n",
    "\n",
    "# 앙상블 평균\n",
    "models = [joblib.load(f\"xgb_model_fold{i}.pkl\") for i in range(1, 6)]\n",
    "print(models)"
   ]
  },
  {
   "cell_type": "code",
   "execution_count": 12,
   "id": "2f6a6668-821a-40f5-9e01-30aedfdf5f0b",
   "metadata": {},
   "outputs": [
    {
     "name": "stdout",
     "output_type": "stream",
     "text": [
      "✅ Inference complete!\n",
      "⏱️ Time: 144.6s\n"
     ]
    }
   ],
   "source": [
    "# XGBoost DMatrix 변환 & 예측\n",
    "dtest = xgb.DMatrix(X_infer)\n",
    "\n",
    "start = time.time()\n",
    "# y_pred = model.predict(dtest)\n",
    "y_pred = np.mean([model.predict(xgb.DMatrix(X_infer)) for model in models], axis=0)  # 앙상블 평균\n",
    "\n",
    "print(\"✅ Inference complete!\")\n",
    "print(f\"⏱️ Time: {time.time() - start:.1f}s\")  # 142.1s in RTX A6000"
   ]
  },
  {
   "cell_type": "code",
   "execution_count": 13,
   "id": "2ed37ef6-73b6-487f-ac39-e58bd8b9caee",
   "metadata": {},
   "outputs": [
    {
     "data": {
      "text/plain": [
       "array([0.30370086, 0.31616282, 0.4163166 , ..., 0.14769891, 0.22845201,\n",
       "       0.29119357], dtype=float32)"
      ]
     },
     "execution_count": 13,
     "metadata": {},
     "output_type": "execute_result"
    }
   ],
   "source": [
    "y_pred"
   ]
  },
  {
   "cell_type": "code",
   "execution_count": 14,
   "id": "e552bafc-c980-4f07-aed6-c80aaf62b0d9",
   "metadata": {},
   "outputs": [
    {
     "data": {
      "text/plain": [
       "1527298"
      ]
     },
     "execution_count": 14,
     "metadata": {},
     "output_type": "execute_result"
    }
   ],
   "source": [
    "n_samples = len(y_pred)\n",
    "n_samples"
   ]
  },
  {
   "cell_type": "code",
   "execution_count": 15,
   "id": "0291aa2f-3c9b-4121-bb6d-68bb32a3557d",
   "metadata": {
    "scrolled": true
   },
   "outputs": [],
   "source": [
    "# ID 생성: TEST_0000001, TEST_0000002, ...\n",
    "ids = [f\"TEST_{i:07d}\" for i in range(n_samples)]"
   ]
  },
  {
   "cell_type": "code",
   "execution_count": 16,
   "id": "7a9cd037-d3b2-42e2-8e71-1f95908a2976",
   "metadata": {},
   "outputs": [],
   "source": [
    "# 제출용 데이터프레임 생성\n",
    "submission = pd.DataFrame({\n",
    "    \"ID\": ids,\n",
    "    \"clicked\": y_pred\n",
    "})"
   ]
  },
  {
   "cell_type": "code",
   "execution_count": 17,
   "id": "175d82b8-859e-4b31-86ee-af4fbb524d41",
   "metadata": {},
   "outputs": [
    {
     "data": {
      "text/html": [
       "<div>\n",
       "<style scoped>\n",
       "    .dataframe tbody tr th:only-of-type {\n",
       "        vertical-align: middle;\n",
       "    }\n",
       "\n",
       "    .dataframe tbody tr th {\n",
       "        vertical-align: top;\n",
       "    }\n",
       "\n",
       "    .dataframe thead th {\n",
       "        text-align: right;\n",
       "    }\n",
       "</style>\n",
       "<table border=\"1\" class=\"dataframe\">\n",
       "  <thead>\n",
       "    <tr style=\"text-align: right;\">\n",
       "      <th></th>\n",
       "      <th>ID</th>\n",
       "      <th>clicked</th>\n",
       "    </tr>\n",
       "  </thead>\n",
       "  <tbody>\n",
       "    <tr>\n",
       "      <th>0</th>\n",
       "      <td>TEST_0000000</td>\n",
       "      <td>0.303701</td>\n",
       "    </tr>\n",
       "    <tr>\n",
       "      <th>1</th>\n",
       "      <td>TEST_0000001</td>\n",
       "      <td>0.316163</td>\n",
       "    </tr>\n",
       "    <tr>\n",
       "      <th>2</th>\n",
       "      <td>TEST_0000002</td>\n",
       "      <td>0.416317</td>\n",
       "    </tr>\n",
       "    <tr>\n",
       "      <th>3</th>\n",
       "      <td>TEST_0000003</td>\n",
       "      <td>0.477071</td>\n",
       "    </tr>\n",
       "    <tr>\n",
       "      <th>4</th>\n",
       "      <td>TEST_0000004</td>\n",
       "      <td>0.307208</td>\n",
       "    </tr>\n",
       "    <tr>\n",
       "      <th>...</th>\n",
       "      <td>...</td>\n",
       "      <td>...</td>\n",
       "    </tr>\n",
       "    <tr>\n",
       "      <th>1527293</th>\n",
       "      <td>TEST_1527293</td>\n",
       "      <td>0.363867</td>\n",
       "    </tr>\n",
       "    <tr>\n",
       "      <th>1527294</th>\n",
       "      <td>TEST_1527294</td>\n",
       "      <td>0.451266</td>\n",
       "    </tr>\n",
       "    <tr>\n",
       "      <th>1527295</th>\n",
       "      <td>TEST_1527295</td>\n",
       "      <td>0.147699</td>\n",
       "    </tr>\n",
       "    <tr>\n",
       "      <th>1527296</th>\n",
       "      <td>TEST_1527296</td>\n",
       "      <td>0.228452</td>\n",
       "    </tr>\n",
       "    <tr>\n",
       "      <th>1527297</th>\n",
       "      <td>TEST_1527297</td>\n",
       "      <td>0.291194</td>\n",
       "    </tr>\n",
       "  </tbody>\n",
       "</table>\n",
       "<p>1527298 rows × 2 columns</p>\n",
       "</div>"
      ],
      "text/plain": [
       "                   ID   clicked\n",
       "0        TEST_0000000  0.303701\n",
       "1        TEST_0000001  0.316163\n",
       "2        TEST_0000002  0.416317\n",
       "3        TEST_0000003  0.477071\n",
       "4        TEST_0000004  0.307208\n",
       "...               ...       ...\n",
       "1527293  TEST_1527293  0.363867\n",
       "1527294  TEST_1527294  0.451266\n",
       "1527295  TEST_1527295  0.147699\n",
       "1527296  TEST_1527296  0.228452\n",
       "1527297  TEST_1527297  0.291194\n",
       "\n",
       "[1527298 rows x 2 columns]"
      ]
     },
     "execution_count": 17,
     "metadata": {},
     "output_type": "execute_result"
    }
   ],
   "source": [
    "submission"
   ]
  },
  {
   "cell_type": "code",
   "execution_count": 18,
   "id": "7d6f113c-681f-40a0-9433-625b76578cd5",
   "metadata": {},
   "outputs": [
    {
     "name": "stdout",
     "output_type": "stream",
     "text": [
      "✅ submission.csv saved\n"
     ]
    }
   ],
   "source": [
    "# Save\n",
    "\n",
    "# submission.to_csv(\"submission.csv\", index=False)\n",
    "print(\"✅ submission.csv saved\")"
   ]
  }
 ],
 "metadata": {
  "kernelspec": {
   "display_name": "Python 3 (ipykernel)",
   "language": "python",
   "name": "python3"
  },
  "language_info": {
   "codemirror_mode": {
    "name": "ipython",
    "version": 3
   },
   "file_extension": ".py",
   "mimetype": "text/x-python",
   "name": "python",
   "nbconvert_exporter": "python",
   "pygments_lexer": "ipython3",
   "version": "3.10.12"
  }
 },
 "nbformat": 4,
 "nbformat_minor": 5
}
