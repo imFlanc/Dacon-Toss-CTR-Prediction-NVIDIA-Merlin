{
 "cells": [
  {
   "cell_type": "code",
   "execution_count": 1,
   "id": "92022b40-537e-4055-8874-e6d029aa8ccd",
   "metadata": {},
   "outputs": [
    {
     "name": "stdout",
     "output_type": "stream",
     "text": [
      "✅ Environment configured\n"
     ]
    }
   ],
   "source": [
    "# Environment setup\n",
    "import os\n",
    "os.environ['TF_CPP_MIN_LOG_LEVEL'] = '2'\n",
    "import warnings\n",
    "warnings.filterwarnings('ignore')\n",
    "\n",
    "print(\"✅ Environment configured\")"
   ]
  },
  {
   "cell_type": "code",
   "execution_count": 2,
   "id": "39c38a6e-c6b0-4677-9780-707f2b4e59f5",
   "metadata": {},
   "outputs": [],
   "source": [
    "import joblib\n",
    "import numpy as np\n",
    "import onnxmltools\n",
    "import onnx\n",
    "import onnxruntime as ort\n",
    "from xgboost import XGBClassifier\n",
    "from skl2onnx.common.data_types import FloatTensorType"
   ]
  },
  {
   "cell_type": "code",
   "execution_count": 3,
   "id": "17c92391-a19b-458d-a7ad-669a6ecad076",
   "metadata": {},
   "outputs": [
    {
     "name": "stdout",
     "output_type": "stream",
     "text": [
      "📋 Current PATH: /workspace\n"
     ]
    }
   ],
   "source": [
    "print(f\"📋 Current PATH: {os.getcwd()}\")"
   ]
  },
  {
   "cell_type": "code",
   "execution_count": 4,
   "id": "222bfcdf-551c-4476-94a1-4294a3d6c8dc",
   "metadata": {},
   "outputs": [],
   "source": [
    "# === 사용자 설정 ===\n",
    "MODEL_TEMPLATE = \"/workspace/xgb_model_fold{}.pkl\"\n",
    "ONNX_TEMPLATE = \"/workspace/xgb_model_fold{}.onnx\"\n",
    "SAMPLE_X_PATH = \"/workspace/sample_X.npy\"  # optional\n",
    "N_FEATURES = 118  # ✅ 학습 시 사용한 feature 개수\n",
    "# ===================="
   ]
  },
  {
   "cell_type": "code",
   "execution_count": 5,
   "id": "30e6837a-9e53-457d-8e5e-399a0c748468",
   "metadata": {},
   "outputs": [],
   "source": [
    "def convert_single_model(fold_idx: int):\n",
    "    \"\"\"단일 fold 모델을 ONNX로 변환\"\"\"\n",
    "    model_path = MODEL_TEMPLATE.format(fold_idx)\n",
    "    onnx_path = ONNX_TEMPLATE.format(fold_idx)\n",
    "\n",
    "    if not os.path.exists(model_path):\n",
    "        print(f\"❌ {model_path} not found, skipping.\")\n",
    "        return None\n",
    "\n",
    "    print(f\"\\n🔧 [Fold {fold_idx}] Loading {model_path}\")\n",
    "    model = joblib.load(model_path)\n",
    "\n",
    "    # ✅ Booster-only 모델일 경우 wrapper 복원\n",
    "    if hasattr(model, \"n_features_in_\"):\n",
    "        n_features = model.n_features_in_\n",
    "    else:\n",
    "        print(\"⚠️ model is Booster only → wrapping with XGBClassifier.\")\n",
    "        booster = model\n",
    "        model = XGBClassifier()\n",
    "        model._Booster = booster\n",
    "        model.n_classes_ = 2       # binary classification\n",
    "        model.n_estimators = 1     # dummy\n",
    "        n_features = N_FEATURES  # 직접 지정\n",
    "\n",
    "    initial_type = [('input', FloatTensorType([None, n_features]))]\n",
    "    print(f\"💾 [Fold {fold_idx}] Converting to ONNX...\")\n",
    "    onnx_model = onnxmltools.convert_xgboost(model, initial_types=initial_type)\n",
    "    onnxmltools.utils.save_model(onnx_model, onnx_path)\n",
    "    print(f\"✅ [Fold {fold_idx}] Saved to {onnx_path}\")\n",
    "    return onnx_path"
   ]
  },
  {
   "cell_type": "code",
   "execution_count": 6,
   "id": "dc0726a4-2a85-4c56-be73-7cdcd477db33",
   "metadata": {},
   "outputs": [],
   "source": [
    "def validate_onnx(fold_idx: int, sample_X: np.ndarray | None = None):\n",
    "    \"\"\"단일 fold 모델 검증\"\"\"\n",
    "    onnx_path = ONNX_TEMPLATE.format(fold_idx)\n",
    "    model_path = MODEL_TEMPLATE.format(fold_idx)\n",
    "    if not os.path.exists(onnx_path):\n",
    "        print(f\"⚠️ [Fold {fold_idx}] ONNX file not found, skipping validation.\")\n",
    "        return\n",
    "\n",
    "    print(f\"🔍 [Fold {fold_idx}] Validating structure...\")\n",
    "    onnx_model = onnx.load(onnx_path)\n",
    "    onnx.checker.check_model(onnx_model)\n",
    "    print(\"✅ Structure check passed.\")\n",
    "\n",
    "    if sample_X is None:\n",
    "        print(\"⚠️ No sample_X provided, skipping numeric comparison.\")\n",
    "        return\n",
    "\n",
    "    sess = ort.InferenceSession(onnx_path, providers=[\"CPUExecutionProvider\"])\n",
    "    model = joblib.load(model_path)\n",
    "\n",
    "    # Booster-only 모델도 처리\n",
    "    if not hasattr(model, \"predict\"):\n",
    "        print(\"⚠️ Restoring Booster model for comparison.\")\n",
    "        booster = model\n",
    "        model = XGBClassifier()\n",
    "        model._Booster = booster\n",
    "\n",
    "    pred_onnx = sess.run(None, {\"input\": sample_X})[0]\n",
    "    pred_xgb = model.predict(sample_X)\n",
    "\n",
    "    close = np.allclose(pred_xgb, pred_onnx, atol=1e-5)\n",
    "    print(f\"✅ [Fold {fold_idx}] Output equivalence: {close}\")\n",
    "    if not close:\n",
    "        print(\"⚠️ Slight numeric difference detected.\")"
   ]
  },
  {
   "cell_type": "code",
   "execution_count": 7,
   "id": "5e934c2f-3b15-414e-bb01-d10893cd04b6",
   "metadata": {},
   "outputs": [
    {
     "name": "stdout",
     "output_type": "stream",
     "text": [
      "\n",
      "🔧 [Fold 1] Loading /workspace/xgb_model_fold1.pkl\n",
      "⚠️ model is Booster only → wrapping with XGBClassifier.\n",
      "💾 [Fold 1] Converting to ONNX...\n",
      "✅ [Fold 1] Saved to /workspace/xgb_model_fold1.onnx\n",
      "🔍 [Fold 1] Validating structure...\n",
      "✅ Structure check passed.\n",
      "⚠️ No sample_X provided, skipping numeric comparison.\n",
      "\n",
      "🔧 [Fold 2] Loading /workspace/xgb_model_fold2.pkl\n",
      "⚠️ model is Booster only → wrapping with XGBClassifier.\n",
      "💾 [Fold 2] Converting to ONNX...\n",
      "✅ [Fold 2] Saved to /workspace/xgb_model_fold2.onnx\n",
      "🔍 [Fold 2] Validating structure...\n",
      "✅ Structure check passed.\n",
      "⚠️ No sample_X provided, skipping numeric comparison.\n",
      "\n",
      "🔧 [Fold 3] Loading /workspace/xgb_model_fold3.pkl\n",
      "⚠️ model is Booster only → wrapping with XGBClassifier.\n",
      "💾 [Fold 3] Converting to ONNX...\n",
      "✅ [Fold 3] Saved to /workspace/xgb_model_fold3.onnx\n",
      "🔍 [Fold 3] Validating structure...\n",
      "✅ Structure check passed.\n",
      "⚠️ No sample_X provided, skipping numeric comparison.\n",
      "\n",
      "🔧 [Fold 4] Loading /workspace/xgb_model_fold4.pkl\n",
      "⚠️ model is Booster only → wrapping with XGBClassifier.\n",
      "💾 [Fold 4] Converting to ONNX...\n",
      "✅ [Fold 4] Saved to /workspace/xgb_model_fold4.onnx\n",
      "🔍 [Fold 4] Validating structure...\n",
      "✅ Structure check passed.\n",
      "⚠️ No sample_X provided, skipping numeric comparison.\n",
      "\n",
      "🔧 [Fold 5] Loading /workspace/xgb_model_fold5.pkl\n",
      "⚠️ model is Booster only → wrapping with XGBClassifier.\n",
      "💾 [Fold 5] Converting to ONNX...\n",
      "✅ [Fold 5] Saved to /workspace/xgb_model_fold5.onnx\n",
      "🔍 [Fold 5] Validating structure...\n",
      "✅ Structure check passed.\n",
      "⚠️ No sample_X provided, skipping numeric comparison.\n"
     ]
    }
   ],
   "source": [
    "sample_X = None\n",
    "if os.path.exists(SAMPLE_X_PATH):\n",
    "    sample_X = np.load(SAMPLE_X_PATH).astype(np.float32)\n",
    "    print(f\"📦 Loaded sample_X.npy: {sample_X.shape}\")\n",
    "\n",
    "# loop over folds\n",
    "for i in range(1, 6):\n",
    "    convert_single_model(i)\n",
    "    validate_onnx(i, sample_X)"
   ]
  },
  {
   "cell_type": "code",
   "execution_count": null,
   "id": "f8857773-f7f7-4c31-ba61-f52916cdffab",
   "metadata": {},
   "outputs": [],
   "source": []
  }
 ],
 "metadata": {
  "kernelspec": {
   "display_name": "Python 3 (ipykernel)",
   "language": "python",
   "name": "python3"
  },
  "language_info": {
   "codemirror_mode": {
    "name": "ipython",
    "version": 3
   },
   "file_extension": ".py",
   "mimetype": "text/x-python",
   "name": "python",
   "nbconvert_exporter": "python",
   "pygments_lexer": "ipython3",
   "version": "3.10.12"
  }
 },
 "nbformat": 4,
 "nbformat_minor": 5
}
